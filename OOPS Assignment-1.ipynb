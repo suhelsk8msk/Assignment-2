{
 "cells": [
  {
   "cell_type": "markdown",
   "id": "9f632b0c-5ace-450a-bb19-19fda5c81e15",
   "metadata": {},
   "source": [
    "OOPS Assignment-1"
   ]
  },
  {
   "cell_type": "markdown",
   "id": "b83844d3-c56b-4e49-92ae-3ff2494864a2",
   "metadata": {},
   "source": [
    "Q1. Explain Class and Object with respect to Object-Oriented Programming. Give a suitable example."
   ]
  },
  {
   "cell_type": "markdown",
   "id": "0ebf0290-9ffa-4407-83ca-86d31ae1d4b6",
   "metadata": {},
   "source": [
    "ANs - \n",
    "In object-oriented programming (OOP), a class is a blueprint or a template for creating objects. It defines a set of attributes (characteristics) and methods (behaviors) that will be shared by all instances (objects) created from that class. Objects, on the other hand, are instances of a class. "
   ]
  },
  {
   "cell_type": "code",
   "execution_count": 2,
   "id": "ee8c114f-0a21-4e55-b833-cdba8732cbbf",
   "metadata": {},
   "outputs": [
    {
     "name": "stdout",
     "output_type": "stream",
     "text": [
      "Toyota Camry has 4 wheels.\n",
      "Toyota Camry's engine is now running.\n",
      "Honda Civic has 4 wheels.\n",
      "Honda Civic's engine is now running.\n",
      "Toyota Camry's engine is now stopped.\n",
      "Honda Civic's engine is now stopped.\n"
     ]
    }
   ],
   "source": [
    "class Car:\n",
    "    \n",
    "    wheels = 4\n",
    "\n",
    "    def __init__(self, make, model):\n",
    "    \n",
    "        self.make = make\n",
    "        self.model = model\n",
    "        self.is_running = False\n",
    "\n",
    "    def start_engine(self):\n",
    "        print(f\"{self.make} {self.model}'s engine is now running.\")\n",
    "        self.is_running = True\n",
    "\n",
    "    def stop_engine(self):\n",
    "        print(f\"{self.make} {self.model}'s engine is now stopped.\")\n",
    "        self.is_running = False\n",
    "\n",
    "car1 = Car(make=\"Toyota\", model=\"Camry\")\n",
    "car2 = Car(make=\"Honda\", model=\"Civic\")\n",
    "\n",
    "print(f\"{car1.make} {car1.model} has {car1.wheels} wheels.\")\n",
    "car1.start_engine()\n",
    "\n",
    "print(f\"{car2.make} {car2.model} has {car2.wheels} wheels.\")\n",
    "car2.start_engine()\n",
    "\n",
    "car1.stop_engine()\n",
    "car2.stop_engine()\n"
   ]
  },
  {
   "cell_type": "markdown",
   "id": "8142a4be-7e9a-4841-b4f4-deacbe7b4ac2",
   "metadata": {},
   "source": [
    "Q2. Name the four pillars of OOPs."
   ]
  },
  {
   "cell_type": "markdown",
   "id": "bc43aea5-8b92-4c99-b41f-8d71c72116fa",
   "metadata": {},
   "source": [
    "The four pillars of object-oriented programming (OOP) are:\n",
    "\n",
    "1 Encapsulation: Encapsulation is the concept of bundling data (attributes) and methods (functions) that operate on the data into a single unit known as a class. It restricts access to some of an object's components and prevents the accidental modification of data.\n",
    "\n",
    "2 Abstraction: Abstraction involves simplifying complex systems by modeling classes based on the essential properties and behaviors they possess. It allows the programmer to focus on the relevant aspects of an object while ignoring unnecessary details.\n",
    "\n",
    "3 Inheritance: Inheritance is a mechanism that allows a new class (subclass or derived class) to inherit attributes and methods from an existing class (base class or parent class). It promotes code reuse and facilitates the creation of specialized classes based on more general ones.\n",
    "\n",
    "4 Polymorphism: Polymorphism allows objects to be treated as instances of their parent class rather than their actual class. It enables flexibility in code design by allowing objects of different classes to be used interchangeably when they share a common interface.\n",
    "\n",
    "Together, these four pillars provide a solid foundation for designing and implementing object-oriented systems, promoting modularity, maintainability, and extensibility in software development.\n",
    "\n",
    "\n",
    "\n",
    "\n",
    "\n"
   ]
  },
  {
   "cell_type": "markdown",
   "id": "dedd5716-54da-4b6c-84b7-1b12bb3cf734",
   "metadata": {},
   "source": [
    "Q3. Explain why the __init__() function is used. Give a suitable example."
   ]
  },
  {
   "cell_type": "markdown",
   "id": "86fcc95b-6b5c-425e-a667-750b10354398",
   "metadata": {},
   "source": [
    "The __init__() function in Python is a special method (often called a constructor) that is automatically called when an object is created from a class. Its primary purpose is to initialize the attributes of the object with values provided as arguments. This method is executed when you create an instance of a class, and it allows you to set up the initial state of the object."
   ]
  },
  {
   "cell_type": "code",
   "execution_count": 4,
   "id": "75ed26af-1a1e-4212-a4e1-538e8a333a04",
   "metadata": {},
   "outputs": [
    {
     "name": "stdout",
     "output_type": "stream",
     "text": [
      "My car is a 2022 Toyota highlander.\n",
      "2022 Toyota highlander's engine is now running.\n",
      "2022 Toyota highlander's engine is now stopped.\n"
     ]
    }
   ],
   "source": [
    "class Car:\n",
    "    def __init__(self, make, model, year):\n",
    "        \n",
    "        self.make = make\n",
    "        self.model = model\n",
    "        self.year = year\n",
    "        self.is_running = False\n",
    "\n",
    "    def start_engine(self):\n",
    "        print(f\"{self.year} {self.make} {self.model}'s engine is now running.\")\n",
    "        self.is_running = True\n",
    "\n",
    "    def stop_engine(self):\n",
    "        print(f\"{self.year} {self.make} {self.model}'s engine is now stopped.\")\n",
    "        self.is_running = False\n",
    "\n",
    "my_car = Car(make=\"Toyota\", model=\"highlander\", year=2022)\n",
    "\n",
    "print(f\"My car is a {my_car.year} {my_car.make} {my_car.model}.\")\n",
    "my_car.start_engine()\n",
    "my_car.stop_engine()\n"
   ]
  },
  {
   "cell_type": "markdown",
   "id": "ee4dd780-284d-4b60-958e-30a9d2f01092",
   "metadata": {},
   "source": [
    "Q4. Why self is used in OOPs?"
   ]
  },
  {
   "cell_type": "markdown",
   "id": "1b568bd3-c6de-4a5c-80c5-90d7c49796c0",
   "metadata": {},
   "source": [
    "In object-oriented programming (OOP) in Python, the self keyword is used as the first parameter in the method definitions within a class. It refers to the instance of the class and is used to access and modify the attributes and methods of that instance.\n",
    "\n",
    "the main reasons why self is used in OOP are :\n",
    "\n",
    "Instance Reference\n",
    "\n",
    "Accessing Attributes\n",
    "\n",
    "Calling Other Methods\n",
    "\n"
   ]
  },
  {
   "cell_type": "code",
   "execution_count": 5,
   "id": "96a174ca-20fb-4815-8795-3d4bb74d235e",
   "metadata": {},
   "outputs": [
    {
     "name": "stdout",
     "output_type": "stream",
     "text": [
      "5\n",
      "10\n"
     ]
    }
   ],
   "source": [
    "class MyClass:\n",
    "    def __init__(self, value):\n",
    "        self.value = value\n",
    "\n",
    "    def print_value(self):\n",
    "        print(self.value)\n",
    "\n",
    "    def double_value(self):\n",
    "        self.value *= 2\n",
    "\n",
    "obj = MyClass(value=5)\n",
    "\n",
    "# Accessing an attribute using self\n",
    "obj.print_value()\n",
    "\n",
    "# Modifying an attribute using self\n",
    "obj.double_value()\n",
    "obj.print_value()  \n"
   ]
  },
  {
   "cell_type": "markdown",
   "id": "d5c6fbf7-b4de-4c84-898e-036bdf470ed3",
   "metadata": {},
   "source": [
    "Q5. What is inheritance? Give an example for each type of inheritance."
   ]
  },
  {
   "cell_type": "markdown",
   "id": "1373f73f-7694-42c7-9d81-bfa73c4746a4",
   "metadata": {},
   "source": [
    "\n",
    "Inheritance is a fundamental concept in object-oriented programming (OOP) that allows a new class (subclass or derived class) to inherit attributes and methods from an existing class (base class or parent class)."
   ]
  },
  {
   "cell_type": "markdown",
   "id": "bcceea4d-fcb6-4b09-b544-f23494078544",
   "metadata": {},
   "source": [
    "There are several types of inheritance in OOP:"
   ]
  },
  {
   "cell_type": "markdown",
   "id": "9ffe2ca1-5d99-4663-a966-3d1847fa8749",
   "metadata": {},
   "source": [
    "1 Single Inheritance: "
   ]
  },
  {
   "cell_type": "code",
   "execution_count": 6,
   "id": "2a9f7539-20a5-49d4-9aaa-8535aeaa5d63",
   "metadata": {},
   "outputs": [
    {
     "name": "stdout",
     "output_type": "stream",
     "text": [
      "Animal speaks\n",
      "Dog barks\n"
     ]
    }
   ],
   "source": [
    "# In single inheritance, a class inherits from only one base class.\n",
    "class Animal:\n",
    "    def speak(self):\n",
    "        print(\"Animal speaks\")\n",
    "\n",
    "class Dog(Animal):\n",
    "    def bark(self):\n",
    "        print(\"Dog barks\")\n",
    "\n",
    "my_dog = Dog()\n",
    "my_dog.speak()\n",
    "my_dog.bark() \n"
   ]
  },
  {
   "cell_type": "markdown",
   "id": "5ca5cfa2-3c27-443a-ba12-b3f113cc6424",
   "metadata": {},
   "source": [
    "2 Multiple Inheritance:"
   ]
  },
  {
   "cell_type": "code",
   "execution_count": 7,
   "id": "e862a8b4-9597-4fca-9710-0621d59afc7f",
   "metadata": {},
   "outputs": [
    {
     "name": "stdout",
     "output_type": "stream",
     "text": [
      "Engine started\n",
      "Electric motor charging\n",
      "Hybrid car is driving\n"
     ]
    }
   ],
   "source": [
    "class Engine:\n",
    "    def start(self):\n",
    "        print(\"Engine started\")\n",
    "\n",
    "class ElectricMotor:\n",
    "    def charge(self):\n",
    "        print(\"Electric motor charging\")\n",
    "\n",
    "class HybridCar(Engine, ElectricMotor):\n",
    "    def drive(self):\n",
    "        print(\"Hybrid car is driving\")\n",
    "\n",
    "my_hybrid_car = HybridCar()\n",
    "my_hybrid_car.start()   \n",
    "my_hybrid_car.charge()  \n",
    "my_hybrid_car.drive()   \n"
   ]
  },
  {
   "cell_type": "markdown",
   "id": "539bad92-a773-4db7-9c02-3511b03e74cc",
   "metadata": {},
   "source": [
    "3 Multilevel Inheritance:"
   ]
  },
  {
   "cell_type": "code",
   "execution_count": 8,
   "id": "2d556eb7-a1f3-4884-8106-b067b1c9fe9b",
   "metadata": {},
   "outputs": [
    {
     "name": "stdout",
     "output_type": "stream",
     "text": [
      "Vehicle started\n",
      "Car is driving\n",
      "Sports car accelerating\n"
     ]
    }
   ],
   "source": [
    "class Vehicle:\n",
    "    def start(self):\n",
    "        print(\"Vehicle started\")\n",
    "\n",
    "class Car(Vehicle):\n",
    "    def drive(self):\n",
    "        print(\"Car is driving\")\n",
    "\n",
    "class SportsCar(Car):\n",
    "    def accelerate(self):\n",
    "        print(\"Sports car accelerating\")\n",
    "\n",
    "\n",
    "my_sports_car = SportsCar()\n",
    "my_sports_car.start()    \n",
    "my_sports_car.drive()      \n",
    "my_sports_car.accelerate() \n"
   ]
  },
  {
   "cell_type": "markdown",
   "id": "79d0ff4a-d895-47bd-b220-aa94ddb848b2",
   "metadata": {},
   "source": [
    "Hybrid Inheritance:\n",
    "Hybrid inheritance is a combination of two or more types of inheritance."
   ]
  },
  {
   "cell_type": "code",
   "execution_count": null,
   "id": "b786e49a-4831-4fee-a3ab-66249682b3b8",
   "metadata": {},
   "outputs": [],
   "source": []
  }
 ],
 "metadata": {
  "kernelspec": {
   "display_name": "Python 3 (ipykernel)",
   "language": "python",
   "name": "python3"
  },
  "language_info": {
   "codemirror_mode": {
    "name": "ipython",
    "version": 3
   },
   "file_extension": ".py",
   "mimetype": "text/x-python",
   "name": "python",
   "nbconvert_exporter": "python",
   "pygments_lexer": "ipython3",
   "version": "3.10.8"
  }
 },
 "nbformat": 4,
 "nbformat_minor": 5
}
