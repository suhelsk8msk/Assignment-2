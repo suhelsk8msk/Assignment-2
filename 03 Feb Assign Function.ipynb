{
 "cells": [
  {
   "cell_type": "markdown",
   "id": "3a5beb34-3d7d-4a6f-9bb4-1b88b9ff2be9",
   "metadata": {},
   "source": [
    "Q1. Which keyword is used to create a function?\n",
    "Create a function to return a list of odd numbers in the\n",
    "range of 1 to 25."
   ]
  },
  {
   "cell_type": "markdown",
   "id": "3cafaa1d-77b1-4a27-9c04-ef3f870ad32c",
   "metadata": {},
   "source": [
    "Ans - \n",
    "In Python, the keyword used to create a function is def."
   ]
  },
  {
   "cell_type": "code",
   "execution_count": 8,
   "id": "881d6c89-b552-43ac-98dc-33db9be62863",
   "metadata": {},
   "outputs": [
    {
     "name": "stdout",
     "output_type": "stream",
     "text": [
      "[1, 3, 5, 7, 9, 11, 13, 15, 17, 19, 21, 23, 25]\n"
     ]
    }
   ],
   "source": [
    "def odd_num():\n",
    "    odd_list = [i for i in range(1,26) if i % 2 != 0]\n",
    "    return odd_list\n",
    "result = odd_num()  # # Call the function and print the result\n",
    "print(result)\n"
   ]
  },
  {
   "cell_type": "markdown",
   "id": "c541e9f2-8412-426f-9a13-0a29548e5d50",
   "metadata": {},
   "source": [
    "Q2. Why *args and **kwargs is used in some functions? \n",
    "Create a function each for *args and **kwargs\n",
    "to demonstrate their use."
   ]
  },
  {
   "cell_type": "markdown",
   "id": "d15b96be-bf54-44b9-925f-93e6219ebe77",
   "metadata": {},
   "source": [
    "Ans - \n",
    "*args and **kwargs are used in Python functions to allow a variable number of arguments to be passed to the function."
   ]
  },
  {
   "cell_type": "code",
   "execution_count": 9,
   "id": "a544b212-cd5d-4862-b49b-410aeba0b050",
   "metadata": {},
   "outputs": [],
   "source": [
    "# Example with *args:"
   ]
  },
  {
   "cell_type": "code",
   "execution_count": 13,
   "id": "7cf4e43e-a659-4807-9f7a-974f11ee87db",
   "metadata": {},
   "outputs": [
    {
     "name": "stdout",
     "output_type": "stream",
     "text": [
      "6\n",
      "150\n"
     ]
    }
   ],
   "source": [
    "def sum_all(*args):\n",
    "    total = 0\n",
    "    for num in args:\n",
    "        total += num\n",
    "    return total\n",
    "\n",
    "# Call the function with different numbers of arguments\n",
    "result1 = sum_all(1, 2, 3)\n",
    "result2 = sum_all(10, 20, 30, 40, 50)\n",
    "\n",
    "print(result1)\n",
    "print(result2)"
   ]
  },
  {
   "cell_type": "code",
   "execution_count": 11,
   "id": "749c3cfb-a5c4-487d-b6bf-ed353c9b3ec8",
   "metadata": {},
   "outputs": [],
   "source": [
    "# Example with **kwargs:"
   ]
  },
  {
   "cell_type": "code",
   "execution_count": 15,
   "id": "836564c7-4e8a-4547-b06a-5e79c08762d3",
   "metadata": {},
   "outputs": [
    {
     "name": "stdout",
     "output_type": "stream",
     "text": [
      "name: John\n",
      "age: 25\n",
      "country: INDIA\n",
      "product: Laptop\n",
      "price: 20000\n"
     ]
    }
   ],
   "source": [
    "def display_info(**kwargs):\n",
    "    for key, value in kwargs.items():\n",
    "        print(f\"{key}: {value}\")\n",
    "\n",
    "# Call the function with different keyword arguments\n",
    "display_info(name=\"John\", age=25, country=\"INDIA\")\n",
    "display_info(product=\"Laptop\", price=20000)"
   ]
  },
  {
   "cell_type": "markdown",
   "id": "31fe53b0-b32a-4235-a1c2-6d629e50ded9",
   "metadata": {},
   "source": [
    "Q3. What is an iterator in python? Name the method used to initialise the iterator object and the method\n",
    "used for iteration. Use these methods to print the first five elements of the given list [2, 4, 6, 8, 10, 12, 14,\n",
    "16, 18, 20]."
   ]
  },
  {
   "cell_type": "markdown",
   "id": "26946e18-9163-4f47-a226-f122e33a9cf4",
   "metadata": {},
   "source": [
    "Ans - \n",
    "In Python, an iterator is an object that represents a stream of data. It implements two methods, __iter__() and __next__(), that enable iteration over the elements of the stream.\n",
    "\n",
    "__iter__() is called when an iterator object is created and should return the iterator object itself.\n",
    "__next__() is called to get the next element in the iteration. If there are no more elements, it should raise the StopIteration exception"
   ]
  },
  {
   "cell_type": "code",
   "execution_count": 16,
   "id": "8e4f2b95-fddc-4e25-a661-0faade20749a",
   "metadata": {},
   "outputs": [],
   "source": [
    "# An example using the given list to create an iterator and print the first five elements:"
   ]
  },
  {
   "cell_type": "markdown",
   "id": "4b2a9e25-4723-404b-bb74-224b75f9c2ec",
   "metadata": {},
   "source": [
    "my_list = [2, 4, 6, 8, 10, 12, 14, 16, 18, 20]\n",
    "\n",
    "my_iterator = iter(my_list)\n",
    "\n",
    "# Iterate and print the first five elements\n",
    "for i in range(5):\n",
    "    element = next(my_iterator)\n",
    "    print(element)"
   ]
  },
  {
   "cell_type": "markdown",
   "id": "0e52e225-1126-475d-ae59-bddca8004450",
   "metadata": {},
   "source": [
    "Q4. What is a generator function in python? Why yield keyword is used? Give an example of a generator\n",
    "function."
   ]
  },
  {
   "cell_type": "markdown",
   "id": "afad9b62-6a69-455a-8a17-692a234947f3",
   "metadata": {},
   "source": [
    "Ans - \n",
    "In Python, a generator function is a special type of function that allows you to iterate over a potentially large set of data without loading the entire set into memory at once. It is defined like a regular function.\n",
    "\n",
    "The yield keyword is used in a generator function to temporarily suspend the function's state and return a value to the caller.\n"
   ]
  },
  {
   "cell_type": "code",
   "execution_count": 22,
   "id": "ef80d78b-19eb-4cff-9e63-c6281dd02963",
   "metadata": {},
   "outputs": [
    {
     "name": "stdout",
     "output_type": "stream",
     "text": [
      "0\n",
      "1\n",
      "4\n",
      "9\n",
      "16\n"
     ]
    }
   ],
   "source": [
    "def square_generator(n):\n",
    "    for i in range(n):\n",
    "        yield i ** 2\n",
    "\n",
    "# generator object\n",
    "my_generator = square_generator(5)\n",
    "\n",
    "# Iterate over the generated values\n",
    "for square in my_generator:\n",
    "    print(square)"
   ]
  },
  {
   "cell_type": "markdown",
   "id": "4d67e748-9a7e-4dfa-b2a6-0bda08a7b9e0",
   "metadata": {},
   "source": [
    "Q5. Create a generator function for prime numbers less than 1000. Use the next() method to print the\n",
    "first 20 prime numbers."
   ]
  },
  {
   "cell_type": "code",
   "execution_count": 27,
   "id": "bf1ce555-26aa-4864-8ec1-0599aff7f785",
   "metadata": {},
   "outputs": [
    {
     "name": "stdout",
     "output_type": "stream",
     "text": [
      "2\n",
      "3\n",
      "5\n",
      "7\n",
      "11\n",
      "13\n",
      "17\n",
      "19\n",
      "23\n",
      "29\n",
      "31\n",
      "37\n",
      "41\n",
      "43\n",
      "47\n",
      "53\n",
      "59\n",
      "61\n",
      "67\n",
      "71\n"
     ]
    }
   ],
   "source": [
    "def is_prime(num):\n",
    "    if num < 2:\n",
    "        return False\n",
    "    for i in range(2, int(num**0.5) + 1):\n",
    "        if num % i == 0:\n",
    "            return False\n",
    "    return True\n",
    "\n",
    "def prime_generator(limit):\n",
    "    count = 0\n",
    "    number = 2\n",
    "    while count < limit:\n",
    "        if is_prime(number):\n",
    "            yield number\n",
    "            count += 1\n",
    "        number += 1\n",
    "\n",
    "# prime number generator object\n",
    "prime_gen = prime_generator(20)\n",
    "\n",
    "for i in range(20):\n",
    "    next_prime = next(prime_gen)\n",
    "    print(next_prime)\n"
   ]
  },
  {
   "cell_type": "markdown",
   "id": "13471147-a665-4c15-b175-dee61b6ecaa4",
   "metadata": {},
   "source": [
    "Q6. Write a python program to print the first 10 Fibonacci numbers using a while loop."
   ]
  },
  {
   "cell_type": "code",
   "execution_count": 31,
   "id": "8d6f3cb5-14fb-4e2d-9c9d-c22dcd530487",
   "metadata": {},
   "outputs": [
    {
     "name": "stdout",
     "output_type": "stream",
     "text": [
      "The first 10 Fibonacci numbers are: [0, 1, 1, 2, 3, 5, 8, 13, 21, 34]\n"
     ]
    }
   ],
   "source": [
    "# Function to generate Fibonacci numbers\n",
    "def fib(n):\n",
    "    fib_num= [0, 1]\n",
    "    while len(fib_num) < n:\n",
    "        fib_num.append(fib_num[-1] + fib_num[-2])\n",
    "    return fib_num\n",
    "\n",
    "# Set the number of Fibonacci numbers to print\n",
    "n = 10\n",
    "\n",
    "# Print the first 10 Fibonacci numbers\n",
    "fibonacci_numbers = fib(n)\n",
    "print(f\"The first {n} Fibonacci numbers are: {fibonacci_numbers}\")\n"
   ]
  },
  {
   "cell_type": "markdown",
   "id": "d60a6262-1cbd-4a33-ae05-6d0637d02045",
   "metadata": {},
   "source": [
    "Q7. Write a List Comprehension to iterate through the given string: ‘pwskills’.\n",
    "Expected output: ['p', 'w', 's', 'k', 'i', 'l', 'l', 's']"
   ]
  },
  {
   "cell_type": "code",
   "execution_count": 35,
   "id": "7800b1c1-33d4-474b-9945-f13d8f870d00",
   "metadata": {},
   "outputs": [
    {
     "name": "stdout",
     "output_type": "stream",
     "text": [
      "['p', 'w', 's', 'k', 'i', 'l', 'l', 's']\n"
     ]
    }
   ],
   "source": [
    "str1 = 'pwskills'\n",
    "\n",
    "l = [char for char in str1] # final output list\n",
    "\n",
    "print(l)\n"
   ]
  },
  {
   "cell_type": "markdown",
   "id": "4817745b-ec55-481d-aa2e-db3fe8ab8d55",
   "metadata": {},
   "source": [
    "Q8. Write a python program to check whether a given number is Palindrome or not using a while loop."
   ]
  },
  {
   "cell_type": "code",
   "execution_count": 39,
   "id": "969fceca-99fc-483f-ad76-d90184ee8a41",
   "metadata": {},
   "outputs": [
    {
     "name": "stdin",
     "output_type": "stream",
     "text": [
      "Enter a number:  1331\n"
     ]
    },
    {
     "name": "stdout",
     "output_type": "stream",
     "text": [
      "1331 is a palindrome.\n"
     ]
    }
   ],
   "source": [
    "def is_palindrome(num):\n",
    "    original_num = num\n",
    "    reversed_num = 0\n",
    "\n",
    "    while num > 0:\n",
    "        digit = num % 10\n",
    "        reversed_num = reversed_num * 10 + digit\n",
    "        num = num // 10\n",
    "\n",
    "    return original_num == reversed_num\n",
    "\n",
    "number = int(input(\"Enter a number: \"))\n",
    "\n",
    "# Check if the number is a palindrome\n",
    "if is_palindrome(number):\n",
    "    print(f\"{number} is a palindrome.\")\n",
    "else:\n",
    "    print(f\"{number} is not a palindrome.\")"
   ]
  },
  {
   "cell_type": "markdown",
   "id": "53653d52-bd50-4ba2-aeb1-6b301f164050",
   "metadata": {},
   "source": [
    "Q9. Write a code to print odd numbers from 1 to 100 using list comprehension."
   ]
  },
  {
   "cell_type": "code",
   "execution_count": 42,
   "id": "34606918-16a5-4e72-8246-f5e0d99c4da7",
   "metadata": {},
   "outputs": [
    {
     "name": "stdout",
     "output_type": "stream",
     "text": [
      "[1, 3, 5, 7, 9, 11, 13, 15, 17, 19, 21, 23, 25, 27, 29, 31, 33, 35, 37, 39, 41, 43, 45, 47, 49, 51, 53, 55, 57, 59, 61, 63, 65, 67, 69, 71, 73, 75, 77, 79, 81, 83, 85, 87, 89, 91, 93, 95, 97, 99]\n"
     ]
    }
   ],
   "source": [
    "odd_numbers = [i for i in range(1, 101) if i % 2 != 0]\n",
    "\n",
    "print(odd_numbers)\n"
   ]
  },
  {
   "cell_type": "code",
   "execution_count": 43,
   "id": "58277273-d7b6-4d20-876e-d2537f775fb2",
   "metadata": {},
   "outputs": [
    {
     "name": "stdout",
     "output_type": "stream",
     "text": [
      "[1, 3, 5, 7, 9, 11, 13, 15, 17, 19, 21, 23, 25, 27, 29, 31, 33, 35, 37, 39, 41, 43, 45, 47, 49, 51, 53, 55, 57, 59, 61, 63, 65, 67, 69, 71, 73, 75, 77, 79, 81, 83, 85, 87, 89, 91, 93, 95, 97, 99]\n"
     ]
    }
   ],
   "source": [
    "all_numbers = [i for i in range(1, 101)]\n",
    "\n",
    "odd_numbers = [i for i in all_numbers if i % 2 != 0]\n",
    "\n",
    "print(odd_numbers)\n"
   ]
  },
  {
   "cell_type": "code",
   "execution_count": null,
   "id": "cae42e9e-97b7-4736-ba46-798824aa5697",
   "metadata": {},
   "outputs": [],
   "source": []
  }
 ],
 "metadata": {
  "kernelspec": {
   "display_name": "Python 3 (ipykernel)",
   "language": "python",
   "name": "python3"
  },
  "language_info": {
   "codemirror_mode": {
    "name": "ipython",
    "version": 3
   },
   "file_extension": ".py",
   "mimetype": "text/x-python",
   "name": "python",
   "nbconvert_exporter": "python",
   "pygments_lexer": "ipython3",
   "version": "3.10.8"
  }
 },
 "nbformat": 4,
 "nbformat_minor": 5
}
