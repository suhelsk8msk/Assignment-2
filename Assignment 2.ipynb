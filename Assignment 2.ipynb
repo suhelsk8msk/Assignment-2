{
 "cells": [
  {
   "cell_type": "code",
   "execution_count": 2,
   "id": "fa12b206-df94-4441-99dd-dcda170695b2",
   "metadata": {},
   "outputs": [],
   "source": [
    "# Assignment 2"
   ]
  },
  {
   "cell_type": "code",
   "execution_count": 3,
   "id": "b8204131-6250-4726-b4aa-d03217038f4e",
   "metadata": {},
   "outputs": [],
   "source": [
    "#Q1 -How do you comment code in Python? What are the different types of comments?\n",
    " #Ans -\n",
    "    \n",
    "    #Comments can be used to explain Python code. Comments can be used to make the code more readable.\n",
    "    #There are three types of comments: single-line, multi-line, and docstring comments.\n",
    "    \n",
    "    \n",
    "    # Single Line Comment\n",
    "    \n",
    "   # Single-line comments begin with the “#” character.\n",
    "    #Anything that is written in a single line after ‘#’ is considered as a comment.\n",
    "    \n",
    "    # Multi line Comment\n",
    "    \n",
    "    #You can either use a single (‘’) quotation or double (“”) quotation.\n",
    "    #To do this, use either a ‘’ or “” quotation marks three times.\n",
    "    \n"
   ]
  },
  {
   "cell_type": "code",
   "execution_count": 4,
   "id": "46503263-c0d4-47b7-9f53-a003ce2defbc",
   "metadata": {},
   "outputs": [],
   "source": [
    "# Q2. What are variables in Python? How do you declare and assign values to variables?\n",
    "# Python variables are simply containers for storing data values.\n",
    "#The assignment operator, denoted by the “=” symbol is the operator that is used to assign values to variables in python. \n",
    "#The line x=1 takes the known value,1,and assigns that value to the variable with name “x”.\n"
   ]
  },
  {
   "cell_type": "code",
   "execution_count": 5,
   "id": "74f21be8-92dd-47db-bae3-3da9c8062bb2",
   "metadata": {},
   "outputs": [],
   "source": [
    "# Q3. How do you convert one data type to another in Python?\n",
    "#Python defines type conversion functions to directly convert one data type to another which is useful in day-to-day and competitive programming.\n",
    "#Python Type conversion using tuple(), set(), list() \n",
    "#tuple(): This function is used to convert to a tuple. \n",
    "#set(): This function returns the type after converting to set. \n",
    "#list(): This function is used to convert any data type to a list type.\n",
    " #               There are two types of Type Conversion in Python:\n",
    "#1.Python Implicit Type Conversion\n",
    "#2.Python Explicit Type Conversion\n",
    " #                                     1.Python Implicit Type Conversion\n",
    "#In Implicit type conversion of data types in Python, the Python interpreter automatically converts one data type to another without any user involvement.\n",
    "#Ex: -\n",
    "#x = 10\n",
    "#print(\"x is of type:\",type(x))\n",
    "#y = 10.6\n",
    "#print(\"y is of type:\",type(y))\n",
    "#z = x + y\n",
    "#print(z)\n",
    "#print(\"z is of type:\",type(z))\n",
    "\n",
    " #                          2.Python Explicit Type Conversion\n",
    "#In Explicit Type Conversion in Python, the data type is manually changed by the user as per their requirement.\n",
    " #            Ex:-\n",
    "# initializing string\n",
    "#s = \"10010\"\n",
    "# printing string converting to int base 2\n",
    "#c = int(s,2)\n",
    "#print (\"After converting to integer base 2 : \", end=\"\")\n",
    "#print (c)\n",
    "# printing string converting to float\n",
    "#e = float(s)\n",
    "#print (\"After converting to float : \", end=\"\")\n",
    "#print (e)\n"
   ]
  },
  {
   "cell_type": "code",
   "execution_count": 6,
   "id": "bfb0341c-4be0-49f6-bd90-567ba7492cfc",
   "metadata": {},
   "outputs": [],
   "source": [
    "#Q4. How do you write and execute a Python script from the command line?\n",
    "#The most basic and easy way to run a Python script is by using the python command. \n",
    "#You need to open a command line and type the word python followed by the path to your script file like this:\n",
    " #     python first_script.py\n",
    " #    Hello World!\n",
    "#Then you hit the ENTER button from the keyboard.\n"
   ]
  },
  {
   "cell_type": "code",
   "execution_count": 7,
   "id": "eb3b5c00-569a-4287-b99d-e557fee046b6",
   "metadata": {},
   "outputs": [],
   "source": [
    "#Q5. Given a list my_list = [1, 2, 3, 4, 5], write the code to slice the list and obtain the sub-list [2, 3].\n",
    "\n",
    "#my_list =[1,2,3,4,5]\n",
    "#print(my_list[1:3])\n",
    " #    Output – [2,3]\n"
   ]
  },
  {
   "cell_type": "code",
   "execution_count": 8,
   "id": "99d4fd9a-a03d-4cc5-9ab5-88a3f55a7026",
   "metadata": {},
   "outputs": [],
   "source": [
    "#Q6. What is a complex number in mathematics, and how is it represented in Python?\n",
    "\n",
    "#Complex numbers are created from two real numbers.\n",
    "#It is written in the form of (x + yj)  where x and y are real numbers and j is an imaginary number.\n",
    " # Ex -      z = 5+4j\n",
    "\n",
    "#z.real                                    output  = 5.0\n",
    "#z.imag                                  output = 4.0\n"
   ]
  },
  {
   "cell_type": "code",
   "execution_count": 9,
   "id": "a9e3b599-750a-4e1e-9c3f-744faefc4ced",
   "metadata": {},
   "outputs": [],
   "source": [
    "#Q7. What is the correct way to declare a variable named age and assign the value 25 to it?\n",
    "   #        To declare an integer variable −\n",
    "#Name the variable\n",
    "#Assign an integer value to it\n",
    "#declaring a variable in Python is very simple.\n",
    "#Just name the variable.\n",
    "#Assign the required value to it.\n",
    "#The data type of the variable will be automatically determined from the value assigned, we need not define it explicitly.\n",
    "#Ex -  age = 25\n",
    "#print(\"The type of age variable is : \", type(age))\n",
    "\n",
    "#Output :    The type of age variable is :  <class 'int'\n"
   ]
  },
  {
   "cell_type": "code",
   "execution_count": 10,
   "id": "53a16d1d-7d00-4bfc-a12e-85e3bada21e0",
   "metadata": {},
   "outputs": [],
   "source": [
    "#Q8. Declare a variable named price and assign the value 9.99 to it. What data type does this variable \n",
    "#belong to?\n",
    "\n",
    "#Price = 9.99\n",
    "#Print(“The type of price variable is : ”, type(price))\n",
    "\n",
    "#Output :    The type of price variable is :  <class 'float'>\n"
   ]
  },
  {
   "cell_type": "code",
   "execution_count": 11,
   "id": "5cac637f-5dd3-4633-97d0-b5c07398fc4d",
   "metadata": {},
   "outputs": [],
   "source": [
    "#Q9. Create a variable named name and assign your full name to it as a string. How would you print the \n",
    "#value of this variable?\n",
    "\n",
    "#name = \"Mohammad suhel\"\n",
    "#print(\"My name is \",(name))\n"
   ]
  },
  {
   "cell_type": "code",
   "execution_count": 12,
   "id": "d0bd427a-80bf-4253-b6a4-7a1e8c2577dc",
   "metadata": {},
   "outputs": [],
   "source": [
    "#Q10. Given the string \"Hello, World!\", extract the substring \"World\".\n",
    "\n",
    "#string = \"Hello, World!\"\n",
    "#print(string[6:12])\n"
   ]
  },
  {
   "cell_type": "code",
   "execution_count": null,
   "id": "0894d219-f88c-4eac-8379-4e633c510d5b",
   "metadata": {},
   "outputs": [],
   "source": []
  }
 ],
 "metadata": {
  "kernelspec": {
   "display_name": "Python 3 (ipykernel)",
   "language": "python",
   "name": "python3"
  },
  "language_info": {
   "codemirror_mode": {
    "name": "ipython",
    "version": 3
   },
   "file_extension": ".py",
   "mimetype": "text/x-python",
   "name": "python",
   "nbconvert_exporter": "python",
   "pygments_lexer": "ipython3",
   "version": "3.10.8"
  }
 },
 "nbformat": 4,
 "nbformat_minor": 5
}
