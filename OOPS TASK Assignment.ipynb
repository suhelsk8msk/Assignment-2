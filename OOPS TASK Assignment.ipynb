{
 "cells": [
  {
   "cell_type": "markdown",
   "id": "3ba5de44-6ef7-4c1f-8b12-0991cefa2f75",
   "metadata": {},
   "source": [
    "OOPS TASK Assignment"
   ]
  },
  {
   "cell_type": "markdown",
   "id": "87edc92e-a4e4-402b-b336-7fc54e5f7390",
   "metadata": {},
   "source": [
    "Q1, Create a vehicle class with an init method having instance variables as name_of_vehicle, max_speed\n",
    "and average_of_vehicle."
   ]
  },
  {
   "cell_type": "code",
   "execution_count": 1,
   "id": "c8ee9bbe-125c-4ced-ae62-e9e58f1c2a3e",
   "metadata": {},
   "outputs": [
    {
     "name": "stdout",
     "output_type": "stream",
     "text": [
      "Name of Vehicle: Car\n",
      "Maximum Speed: 200 km/h\n",
      "Average Speed: 60 km/h\n"
     ]
    }
   ],
   "source": [
    "class Vehicle:\n",
    "    def __init__(self, name_of_vehicle, max_speed, average_speed):\n",
    "        self.name_of_vehicle = name_of_vehicle\n",
    "        self.max_speed = max_speed\n",
    "        self.average_speed = average_speed\n",
    "\n",
    "car = Vehicle(name_of_vehicle=\"Car\", max_speed=200, average_speed=60)\n",
    "\n",
    "print(f\"Name of Vehicle: {car.name_of_vehicle}\")\n",
    "print(f\"Maximum Speed: {car.max_speed} km/h\")\n",
    "print(f\"Average Speed: {car.average_speed} km/h\")\n"
   ]
  },
  {
   "cell_type": "markdown",
   "id": "026502a6-b940-47bf-aea4-4c5e3dd73ba7",
   "metadata": {},
   "source": [
    "Q2. Create a child class car from the vehicle class created in Que 1, which will inherit the vehicle class.\n",
    "Create a method named seating_capacity which takes capacity as an argument and returns the name of\n",
    "the vehicle and its seating capacity."
   ]
  },
  {
   "cell_type": "code",
   "execution_count": 4,
   "id": "c9333f5d-c3bd-4eed-a58c-8d55a7924db0",
   "metadata": {},
   "outputs": [
    {
     "name": "stdout",
     "output_type": "stream",
     "text": [
      "Name of Vehicle: Toyota\n",
      "Maximum Speed: 180 km/h\n",
      "Average Speed: 50 km/h\n",
      "Toyota has a seating capacity of 5 people.\n"
     ]
    }
   ],
   "source": [
    "class Vehicle:\n",
    "    def __init__(self, name_of_vehicle, max_speed, average_speed):\n",
    "        self.name_of_vehicle = name_of_vehicle\n",
    "        self.max_speed = max_speed\n",
    "        self.average_speed = average_speed\n",
    "\n",
    "class Car(Vehicle):\n",
    "    def __init__(self, name_of_vehicle, max_speed, average_speed):\n",
    "        super().__init__(name_of_vehicle, max_speed, average_speed)\n",
    "\n",
    "    def seating_capacity(self, capacity):\n",
    "        return f\"{self.name_of_vehicle} has a seating capacity of {capacity} people.\"\n",
    "\n",
    "toyota = Car(name_of_vehicle=\"Toyota\", max_speed=180, average_speed=50)\n",
    "\n",
    "# Accessing instance variables from the parent class (Vehicle)\n",
    "print(f\"Name of Vehicle: {toyota.name_of_vehicle}\")\n",
    "print(f\"Maximum Speed: {toyota.max_speed} km/h\")\n",
    "print(f\"Average Speed: {toyota.average_speed} km/h\")\n",
    "\n",
    "print(toyota.seating_capacity(5))\n"
   ]
  },
  {
   "cell_type": "markdown",
   "id": "4070bc05-73bf-4431-9e8e-82b47d8b5f26",
   "metadata": {},
   "source": [
    "Q3. What is multiple inheritance? Write a python code to demonstrate multiple inheritance."
   ]
  },
  {
   "cell_type": "markdown",
   "id": "d21de618-a64d-49a9-8094-358cfbe33bb3",
   "metadata": {},
   "source": [
    "Ans - Multiple Ineheritance : \n",
    "Multiple inheritance in Python refers to a situation where a class can inherit attributes and methods from more than one parent class. This means that a child class can inherit from multiple parent classes.  "
   ]
  },
  {
   "cell_type": "code",
   "execution_count": 6,
   "id": "f89c3260-0cd9-4d5c-9272-5cd2abd16922",
   "metadata": {},
   "outputs": [
    {
     "name": "stdout",
     "output_type": "stream",
     "text": [
      "Engine started.\n",
      "Electric motor charging.\n",
      "Hybrid car is driving.\n"
     ]
    }
   ],
   "source": [
    "class Engine:\n",
    "    def start(self):\n",
    "        print(\"Engine started.\")\n",
    "\n",
    "class ElectricMotor:\n",
    "    def charge(self):\n",
    "        print(\"Electric motor charging.\")\n",
    "\n",
    "class HybridCar(Engine, ElectricMotor):\n",
    "    def drive(self):\n",
    "        print(\"Hybrid car is driving.\")\n",
    "\n",
    "my_hybrid_car = HybridCar()\n",
    "\n",
    "my_hybrid_car.start()   # Method from Engine class\n",
    "my_hybrid_car.charge()  # Method from ElectricMotor class\n",
    "my_hybrid_car.drive()   # Method from HybridCar class\n"
   ]
  },
  {
   "cell_type": "markdown",
   "id": "54b00887-7a86-4d55-b60d-2a00d0973a27",
   "metadata": {},
   "source": [
    "Q4. What are getter and setter in python? Create a class and create a getter and a setter method in this\n",
    "class."
   ]
  },
  {
   "cell_type": "markdown",
   "id": "476201d2-0f4d-47d9-b7de-ccc7a37e408e",
   "metadata": {},
   "source": [
    "Ans - \n",
    "In Python, getter and setter methods are used to access and modify the attributes of a class, providing a way to encapsulate access to instance variables. These methods are commonly used for data encapsulation and to control access to the class attributes.\n",
    "\n",
    "Getter: A getter method retrieves the value of an attribute.\n",
    "\n",
    "Setter: A setter method modifies the value of an attribute."
   ]
  },
  {
   "cell_type": "code",
   "execution_count": 7,
   "id": "6ec68944-3eaa-471e-8fea-3b1e2d893019",
   "metadata": {},
   "outputs": [
    {
     "name": "stdout",
     "output_type": "stream",
     "text": [
      "Name: Alice\n",
      "Age: 30\n",
      "Modified Name: Bob\n",
      "Modified Age: 25\n"
     ]
    }
   ],
   "source": [
    "class Person:\n",
    "    def __init__(self, name, age):\n",
    "        self._name = name  # a single underscore is used to indicate a protected attribute\n",
    "        self._age = age\n",
    "\n",
    "    def get_name(self):\n",
    "        return self._name\n",
    "\n",
    "    def set_name(self, new_name):\n",
    "        self._name = new_name\n",
    "\n",
    "    def get_age(self):\n",
    "        return self._age\n",
    "\n",
    "    def set_age(self, new_age):\n",
    "        if 0 < new_age < 150:  # Assuming a reasonable age range\n",
    "            self._age = new_age\n",
    "        else:\n",
    "            print(\"Invalid age input\")\n",
    "\n",
    "person1 = Person(name=\"Alice\", age=30)\n",
    "\n",
    "print(\"Name:\", person1.get_name())\n",
    "print(\"Age:\", person1.get_age())\n",
    "\n",
    "person1.set_name(\"Bob\")\n",
    "person1.set_age(25)\n",
    "\n",
    "print(\"Modified Name:\", person1.get_name())\n",
    "print(\"Modified Age:\", person1.get_age())\n"
   ]
  },
  {
   "cell_type": "markdown",
   "id": "c239f705-72c0-4d33-8c0b-5d9ec367375a",
   "metadata": {},
   "source": [
    "Q5.What is method overriding in python? Write a python code to demonstrate method overriding."
   ]
  },
  {
   "cell_type": "markdown",
   "id": "83623256-72ae-4f16-aba4-1525f055d1c4",
   "metadata": {},
   "source": [
    "Ans - \n",
    "Method overriding in Python refers to the ability of a subclass to provide a specific implementation for a method that is already defined in its superclass. When a subclass provides its own implementation for a method that is already present in its superclass, it is said to override that method."
   ]
  },
  {
   "cell_type": "code",
   "execution_count": 9,
   "id": "93eb3427-4575-4a45-b1f1-d4c6ce24d69d",
   "metadata": {},
   "outputs": [
    {
     "name": "stdout",
     "output_type": "stream",
     "text": [
      "Dog barks\n",
      "Cat meows\n"
     ]
    }
   ],
   "source": [
    "class Animal:\n",
    "    def speak(self):\n",
    "        print(\"Animal speaks\")\n",
    "\n",
    "class Dog(Animal):\n",
    "    def speak(self):\n",
    "        print(\"Dog barks\")\n",
    "\n",
    "class Cat(Animal):\n",
    "    def speak(self):\n",
    "        print(\"Cat meows\")\n",
    "\n",
    "dog_instance = Dog()\n",
    "cat_instance = Cat()\n",
    "\n",
    "dog_instance.speak() \n",
    "cat_instance.speak()  "
   ]
  },
  {
   "cell_type": "code",
   "execution_count": null,
   "id": "3c18f696-1994-4008-9b72-c838acbf1669",
   "metadata": {},
   "outputs": [],
   "source": []
  }
 ],
 "metadata": {
  "kernelspec": {
   "display_name": "Python 3 (ipykernel)",
   "language": "python",
   "name": "python3"
  },
  "language_info": {
   "codemirror_mode": {
    "name": "ipython",
    "version": 3
   },
   "file_extension": ".py",
   "mimetype": "text/x-python",
   "name": "python",
   "nbconvert_exporter": "python",
   "pygments_lexer": "ipython3",
   "version": "3.10.8"
  }
 },
 "nbformat": 4,
 "nbformat_minor": 5
}
