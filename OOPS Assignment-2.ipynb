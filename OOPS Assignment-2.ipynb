{
 "cells": [
  {
   "cell_type": "markdown",
   "id": "7836a152-a362-490b-9b8a-915b061b570a",
   "metadata": {},
   "source": [
    "OOPS Assignment-2"
   ]
  },
  {
   "cell_type": "markdown",
   "id": "e4e4ec54-9645-4da6-89d3-089138df2add",
   "metadata": {},
   "source": [
    "Q1. What is Abstraction in OOps? Explain with an example."
   ]
  },
  {
   "cell_type": "markdown",
   "id": "c02a89aa-d96d-4f60-8827-050b58cd6dcb",
   "metadata": {},
   "source": [
    "Ans - \n",
    "Abstraction is one of the fundamental principles of Object-Oriented Programming (OOP). It involves the concept of hiding the complex implementation details and exposing only the relevant features of an object. "
   ]
  },
  {
   "cell_type": "code",
   "execution_count": 5,
   "id": "93f72754-887b-4bbb-af8b-4a81c494bb43",
   "metadata": {},
   "outputs": [
    {
     "name": "stdout",
     "output_type": "stream",
     "text": [
      "The car is accelerating. Current speed: 10 km/h\n",
      "The car is braking. Current speed: 5 km/h\n",
      "Beep! Beep!\n"
     ]
    }
   ],
   "source": [
    "class Car:\n",
    "    def __init__(self, make, model):\n",
    "        self.make = make\n",
    "        self.model = model\n",
    "        self.speed = 0\n",
    "\n",
    "    def accelerate(self):\n",
    "        self.speed = self.speed + 10\n",
    "        print(f\"The car is accelerating. Current speed: {self.speed} km/h\")\n",
    "\n",
    "    def brake(self):\n",
    "        self.speed = self.speed - 5\n",
    "        print(f\"The car is braking. Current speed: {self.speed} km/h\")\n",
    "\n",
    "    def honk(self):\n",
    "        print(\"Beep! Beep!\")\n",
    "\n",
    "my_car = Car(make=\"Toyota\", model=\"Highlander\")\n",
    "\n",
    "# Interact with the Car object using its public interface\n",
    "my_car.accelerate()\n",
    "my_car.brake()\n",
    "my_car.honk()\n"
   ]
  },
  {
   "cell_type": "code",
   "execution_count": null,
   "id": "ccd8af74-26c5-42f1-92d9-b25a29b52e8b",
   "metadata": {},
   "outputs": [],
   "source": [
    "# In this example, the Car class represents the abstraction of a car. \n",
    "#The internal details of how the car accelerates, brakes, or produces a honking sound are hidden from the outside world. "
   ]
  },
  {
   "cell_type": "markdown",
   "id": "2b7d7607-84cf-4501-b710-0e60ea14fd29",
   "metadata": {},
   "source": [
    "Q2. Differentiate between Abstraction and Encapsulation. Explain with an example."
   ]
  },
  {
   "cell_type": "markdown",
   "id": "d1ef01e4-97af-497e-89f9-e1fb45aa193b",
   "metadata": {},
   "source": [
    "Ans - Abstraction and encapsulation are two important principles in Object-Oriented Programming (OOP), but they refer to different concepts.\n",
    "\n",
    "Abstraction:  Abstraction is one of the fundamental principles of Object-Oriented Programming (OOP). It involves the concept of hiding the complex implementation details and exposing only the relevant features of an object.\n",
    "\n",
    "Purpose: It focuses on providing a high-level view of an object, emphasizing what an object does rather than how it achieves its functionality.\n",
    "\n",
    "Example: In the context of a car, abstraction involves representing a car as an object with essential features such as accelerating, braking, and honking, without exposing the intricate details of the engine, transmission, or other internal mechanisms. Users interact with the abstracted representation (e.g., accelerate(), brake()) without needing to understand the underlying complexities.\n",
    "\n",
    "Encapsulation:  Encapsulation is the bundling of data (attributes) and methods that operate on the data into a single unit, known as a class. It involves restricting access to some of an object's components and only exposing what is necessary.\n",
    "\n",
    "Purpose: It aims to achieve information hiding, protecting the internal state of an object and controlling access to its data and methods.\n",
    "\n",
    "Example: Continuing with the car analogy, encapsulation involves bundling the attributes (e.g., make, model, speed) and methods (e.g., accelerate(), brake()) into a Car class. The internal details of how speed is updated or how the car's make and model are stored are hidden from the external world. Users interact with the car through its public interface."
   ]
  },
  {
   "cell_type": "markdown",
   "id": "9ef187e1-dfb7-4df0-91aa-61aeee0e75f1",
   "metadata": {},
   "source": [
    "Q3. What is abc module in python? Why is it used?"
   ]
  },
  {
   "cell_type": "markdown",
   "id": "40a319b1-e33b-4969-9ac2-28a1bd36efd4",
   "metadata": {},
   "source": [
    "Ans - \n",
    "The abc module in Python stands for \"Abstract Base Classes.\" It provides the infrastructure for defining abstract base classes in Python. Abstract base classes (ABCs) are classes that cannot be instantiated and are meant to be subclassed by other classes."
   ]
  },
  {
   "cell_type": "markdown",
   "id": "05ca44bd-1ea0-4ad8-9310-9b48b40b0f68",
   "metadata": {},
   "source": [
    "use the @abstractmethod decorator to declare abstract methods."
   ]
  },
  {
   "cell_type": "markdown",
   "id": "e34dd5ba-330e-425b-92b1-ee6f6dd8747a",
   "metadata": {},
   "source": [
    "ABC (Abstract Base Class): The ABC class in the abc module is used as a metaclass to create abstract base classes."
   ]
  },
  {
   "cell_type": "markdown",
   "id": "b4169b20-4957-4b44-ba08-eb394d2a25e3",
   "metadata": {},
   "source": [
    "abstractmethod decorator: The @abstractmethod decorator is used to declare abstract methods within an abstract base class."
   ]
  },
  {
   "cell_type": "code",
   "execution_count": 6,
   "id": "8b687da2-0041-4676-97d8-a667aa799746",
   "metadata": {},
   "outputs": [
    {
     "name": "stdout",
     "output_type": "stream",
     "text": [
      "Area: 78.5\n",
      "Perimeter: 31.400000000000002\n"
     ]
    }
   ],
   "source": [
    "from abc import ABC, abstractmethod\n",
    "\n",
    "class Shape(ABC):\n",
    "    @abstractmethod\n",
    "    def area(self):\n",
    "        pass\n",
    "\n",
    "    @abstractmethod\n",
    "    def perimeter(self):\n",
    "        pass\n",
    "\n",
    "class Circle(Shape):\n",
    "    def __init__(self, radius):\n",
    "        self.radius = radius\n",
    "\n",
    "    def area(self):\n",
    "        return 3.14 * self.radius * self.radius\n",
    "\n",
    "    def perimeter(self):\n",
    "        return 2 * 3.14 * self.radius\n",
    "\n",
    "circle = Circle(radius=5)\n",
    "\n",
    "print(f\"Area: {circle.area()}\")\n",
    "print(f\"Perimeter: {circle.perimeter()}\")\n"
   ]
  },
  {
   "cell_type": "markdown",
   "id": "35fe5f5e-fb60-4be7-bc19-0debe7903f98",
   "metadata": {},
   "source": [
    "Q4. How can we achieve data abstraction?"
   ]
  },
  {
   "cell_type": "markdown",
   "id": "acf3a3c3-2ab0-4fa3-a088-d76b6714c002",
   "metadata": {},
   "source": [
    "Ans - The key idea is to hide the implementation details of data and expose only the necessary functionality or interfaces to the outside world."
   ]
  },
  {
   "cell_type": "code",
   "execution_count": 4,
   "id": "f1ad14ca-baef-4442-adc1-015172d71051",
   "metadata": {},
   "outputs": [
    {
     "name": "stdout",
     "output_type": "stream",
     "text": [
      "Toyota\n",
      "Highlander\n"
     ]
    }
   ],
   "source": [
    "class Car:\n",
    "    def __init__(self, brand, model):\n",
    "        self.brand = brand\n",
    "        self.model = model\n",
    "\n",
    "    def get_brand(self):\n",
    "        return self.brand\n",
    "\n",
    "    def get_model(self):\n",
    "        return self.model\n",
    "\n",
    "my_car = Car(brand=\"Toyota\", model=\"Highlander\")\n",
    "print(my_car.get_brand()) \n",
    "print(my_car.get_model())\n"
   ]
  },
  {
   "cell_type": "markdown",
   "id": "36b8489c-0e80-4e29-9db2-edc15b1215c3",
   "metadata": {},
   "source": [
    "Q5. Can we create an instance of an abstract class? Explain your answer."
   ]
  },
  {
   "cell_type": "markdown",
   "id": "133ade66-a715-4165-9e96-8354abb8b0df",
   "metadata": {},
   "source": [
    "Ans - Abstract classes cannot be instantiated, but they can be subclassed. When an abstract class is subclassed, the subclass usually provides implementations for all of the abstract methods in its parent class."
   ]
  },
  {
   "cell_type": "code",
   "execution_count": null,
   "id": "9ae5ef05-0f9d-4908-90f6-94d26ea34646",
   "metadata": {},
   "outputs": [],
   "source": []
  }
 ],
 "metadata": {
  "kernelspec": {
   "display_name": "Python 3 (ipykernel)",
   "language": "python",
   "name": "python3"
  },
  "language_info": {
   "codemirror_mode": {
    "name": "ipython",
    "version": 3
   },
   "file_extension": ".py",
   "mimetype": "text/x-python",
   "name": "python",
   "nbconvert_exporter": "python",
   "pygments_lexer": "ipython3",
   "version": "3.10.8"
  }
 },
 "nbformat": 4,
 "nbformat_minor": 5
}
